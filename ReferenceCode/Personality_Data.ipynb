{
  "cells": [
    {
      "cell_type": "code",
      "execution_count": 1,
      "metadata": {
        "id": "NAr3zBdkaFEl"
      },
      "outputs": [],
      "source": [
        "import pandas as pd\n",
        "import numpy as np\n",
        "\n",
        "import sklearn\n",
        "from sklearn.model_selection import train_test_split\n",
        "from sklearn.metrics import classification_report, accuracy_score, confusion_matrix\n",
        "from sklearn import preprocessing\n",
        "\n",
        "from IPython.display import display\n",
        "import pickle\n",
        "from tqdm.notebook import tqdm\n",
        "tqdm.pandas()\n"
      ]
    },
    {
      "cell_type": "code",
      "execution_count": 2,
      "metadata": {
        "colab": {
          "base_uri": "https://localhost:8080/",
          "height": 424
        },
        "id": "vj-gB-tWbMzA",
        "outputId": "e79f7999-b990-4537-a5ca-3eaff34dad29"
      },
      "outputs": [
        {
          "data": {
            "text/html": [
              "<div>\n",
              "<style scoped>\n",
              "    .dataframe tbody tr th:only-of-type {\n",
              "        vertical-align: middle;\n",
              "    }\n",
              "\n",
              "    .dataframe tbody tr th {\n",
              "        vertical-align: top;\n",
              "    }\n",
              "\n",
              "    .dataframe thead th {\n",
              "        text-align: right;\n",
              "    }\n",
              "</style>\n",
              "<table border=\"1\" class=\"dataframe\">\n",
              "  <thead>\n",
              "    <tr style=\"text-align: right;\">\n",
              "      <th></th>\n",
              "      <th>type</th>\n",
              "      <th>posts</th>\n",
              "    </tr>\n",
              "  </thead>\n",
              "  <tbody>\n",
              "    <tr>\n",
              "      <th>0</th>\n",
              "      <td>INFJ</td>\n",
              "      <td>http://www.youtube.com/watch?v=qsXHcwe3krw|||h...</td>\n",
              "    </tr>\n",
              "    <tr>\n",
              "      <th>1</th>\n",
              "      <td>ENTP</td>\n",
              "      <td>I'm finding the lack of me in these posts very...</td>\n",
              "    </tr>\n",
              "    <tr>\n",
              "      <th>2</th>\n",
              "      <td>INTP</td>\n",
              "      <td>Good one  _____   https://www.youtube.com/watc...</td>\n",
              "    </tr>\n",
              "    <tr>\n",
              "      <th>3</th>\n",
              "      <td>INTJ</td>\n",
              "      <td>Dear INTP,   I enjoyed our conversation the ot...</td>\n",
              "    </tr>\n",
              "    <tr>\n",
              "      <th>4</th>\n",
              "      <td>ENTJ</td>\n",
              "      <td>You're fired.|||That's another silly misconcep...</td>\n",
              "    </tr>\n",
              "    <tr>\n",
              "      <th>...</th>\n",
              "      <td>...</td>\n",
              "      <td>...</td>\n",
              "    </tr>\n",
              "    <tr>\n",
              "      <th>8670</th>\n",
              "      <td>ISFP</td>\n",
              "      <td>https://www.youtube.com/watch?v=t8edHB_h908|||...</td>\n",
              "    </tr>\n",
              "    <tr>\n",
              "      <th>8671</th>\n",
              "      <td>ENFP</td>\n",
              "      <td>So...if this thread already exists someplace e...</td>\n",
              "    </tr>\n",
              "    <tr>\n",
              "      <th>8672</th>\n",
              "      <td>INTP</td>\n",
              "      <td>So many questions when i do these things.  I w...</td>\n",
              "    </tr>\n",
              "    <tr>\n",
              "      <th>8673</th>\n",
              "      <td>INFP</td>\n",
              "      <td>I am very conflicted right now when it comes t...</td>\n",
              "    </tr>\n",
              "    <tr>\n",
              "      <th>8674</th>\n",
              "      <td>INFP</td>\n",
              "      <td>It has been too long since I have been on pers...</td>\n",
              "    </tr>\n",
              "  </tbody>\n",
              "</table>\n",
              "<p>8675 rows × 2 columns</p>\n",
              "</div>"
            ],
            "text/plain": [
              "      type                                              posts\n",
              "0     INFJ  http://www.youtube.com/watch?v=qsXHcwe3krw|||h...\n",
              "1     ENTP  I'm finding the lack of me in these posts very...\n",
              "2     INTP  Good one  _____   https://www.youtube.com/watc...\n",
              "3     INTJ  Dear INTP,   I enjoyed our conversation the ot...\n",
              "4     ENTJ  You're fired.|||That's another silly misconcep...\n",
              "...    ...                                                ...\n",
              "8670  ISFP  https://www.youtube.com/watch?v=t8edHB_h908|||...\n",
              "8671  ENFP  So...if this thread already exists someplace e...\n",
              "8672  INTP  So many questions when i do these things.  I w...\n",
              "8673  INFP  I am very conflicted right now when it comes t...\n",
              "8674  INFP  It has been too long since I have been on pers...\n",
              "\n",
              "[8675 rows x 2 columns]"
            ]
          },
          "execution_count": 2,
          "metadata": {},
          "output_type": "execute_result"
        }
      ],
      "source": [
        "df = pd.read_csv('./dataset.csv')\n",
        "df"
      ]
    },
    {
      "cell_type": "code",
      "execution_count": 3,
      "metadata": {
        "id": "PKSdR8Z2cFnO"
      },
      "outputs": [],
      "source": [
        "df['type'] = df['type'].apply(lambda x: x.lower().strip())"
      ]
    },
    {
      "cell_type": "code",
      "execution_count": 4,
      "metadata": {
        "colab": {
          "base_uri": "https://localhost:8080/"
        },
        "id": "L8v79KK2cYr4",
        "outputId": "e11aa8fa-2cf2-4775-e924-6aacb12db9a2"
      },
      "outputs": [
        {
          "data": {
            "text/plain": [
              "type\n",
              "infp    1832\n",
              "infj    1470\n",
              "intp    1304\n",
              "intj    1091\n",
              "entp     685\n",
              "enfp     675\n",
              "istp     337\n",
              "isfp     271\n",
              "entj     231\n",
              "istj     205\n",
              "enfj     190\n",
              "isfj     166\n",
              "estp      89\n",
              "esfp      48\n",
              "esfj      42\n",
              "estj      39\n",
              "Name: count, dtype: int64"
            ]
          },
          "execution_count": 4,
          "metadata": {},
          "output_type": "execute_result"
        }
      ],
      "source": [
        "df['type'].value_counts()"
      ]
    },
    {
      "cell_type": "code",
      "execution_count": 5,
      "metadata": {
        "colab": {
          "base_uri": "https://localhost:8080/",
          "height": 424
        },
        "id": "9gq6k0rVcow1",
        "outputId": "1e760903-00fd-41ee-f5b6-2f7c2e8b0437"
      },
      "outputs": [
        {
          "data": {
            "text/html": [
              "<div>\n",
              "<style scoped>\n",
              "    .dataframe tbody tr th:only-of-type {\n",
              "        vertical-align: middle;\n",
              "    }\n",
              "\n",
              "    .dataframe tbody tr th {\n",
              "        vertical-align: top;\n",
              "    }\n",
              "\n",
              "    .dataframe thead th {\n",
              "        text-align: right;\n",
              "    }\n",
              "</style>\n",
              "<table border=\"1\" class=\"dataframe\">\n",
              "  <thead>\n",
              "    <tr style=\"text-align: right;\">\n",
              "      <th></th>\n",
              "      <th>type</th>\n",
              "      <th>posts</th>\n",
              "    </tr>\n",
              "  </thead>\n",
              "  <tbody>\n",
              "    <tr>\n",
              "      <th>5777</th>\n",
              "      <td>enfj</td>\n",
              "      <td>My friends say I flirt a lot. That I'm probabl...</td>\n",
              "    </tr>\n",
              "    <tr>\n",
              "      <th>7976</th>\n",
              "      <td>enfj</td>\n",
              "      <td>hmm... I think I should post my view of romanc...</td>\n",
              "    </tr>\n",
              "    <tr>\n",
              "      <th>2851</th>\n",
              "      <td>enfj</td>\n",
              "      <td>Not surprised since I get along with INTP guys...</td>\n",
              "    </tr>\n",
              "    <tr>\n",
              "      <th>342</th>\n",
              "      <td>enfj</td>\n",
              "      <td>hahahahahaha. i just love my ability to read p...</td>\n",
              "    </tr>\n",
              "    <tr>\n",
              "      <th>1441</th>\n",
              "      <td>enfj</td>\n",
              "      <td>You are such a good friend.  She is lucky to h...</td>\n",
              "    </tr>\n",
              "    <tr>\n",
              "      <th>...</th>\n",
              "      <td>...</td>\n",
              "      <td>...</td>\n",
              "    </tr>\n",
              "    <tr>\n",
              "      <th>3524</th>\n",
              "      <td>istp</td>\n",
              "      <td>You know your an ISTP female when you tell the...</td>\n",
              "    </tr>\n",
              "    <tr>\n",
              "      <th>123</th>\n",
              "      <td>istp</td>\n",
              "      <td>I don't offer advice unless it is asked for or...</td>\n",
              "    </tr>\n",
              "    <tr>\n",
              "      <th>3525</th>\n",
              "      <td>istp</td>\n",
              "      <td>.|||Thank you. It's the first time I've tried ...</td>\n",
              "    </tr>\n",
              "    <tr>\n",
              "      <th>8419</th>\n",
              "      <td>istp</td>\n",
              "      <td>I agree with Seralya, message him that, and th...</td>\n",
              "    </tr>\n",
              "    <tr>\n",
              "      <th>6627</th>\n",
              "      <td>istp</td>\n",
              "      <td>INFP 9w1|||I'm pretty sure he is.|||Si|||Te|||...</td>\n",
              "    </tr>\n",
              "  </tbody>\n",
              "</table>\n",
              "<p>8675 rows × 2 columns</p>\n",
              "</div>"
            ],
            "text/plain": [
              "      type                                              posts\n",
              "5777  enfj  My friends say I flirt a lot. That I'm probabl...\n",
              "7976  enfj  hmm... I think I should post my view of romanc...\n",
              "2851  enfj  Not surprised since I get along with INTP guys...\n",
              "342   enfj  hahahahahaha. i just love my ability to read p...\n",
              "1441  enfj  You are such a good friend.  She is lucky to h...\n",
              "...    ...                                                ...\n",
              "3524  istp  You know your an ISTP female when you tell the...\n",
              "123   istp  I don't offer advice unless it is asked for or...\n",
              "3525  istp  .|||Thank you. It's the first time I've tried ...\n",
              "8419  istp  I agree with Seralya, message him that, and th...\n",
              "6627  istp  INFP 9w1|||I'm pretty sure he is.|||Si|||Te|||...\n",
              "\n",
              "[8675 rows x 2 columns]"
            ]
          },
          "execution_count": 5,
          "metadata": {},
          "output_type": "execute_result"
        }
      ],
      "source": [
        "df = df.sort_values(['type'])\n",
        "df"
      ]
    },
    {
      "cell_type": "code",
      "execution_count": 6,
      "metadata": {
        "colab": {
          "base_uri": "https://localhost:8080/",
          "height": 424
        },
        "id": "5JAbq0KMcvQ8",
        "outputId": "91807e49-43af-4e65-c63a-bd3bc5fd1016"
      },
      "outputs": [
        {
          "data": {
            "text/html": [
              "<div>\n",
              "<style scoped>\n",
              "    .dataframe tbody tr th:only-of-type {\n",
              "        vertical-align: middle;\n",
              "    }\n",
              "\n",
              "    .dataframe tbody tr th {\n",
              "        vertical-align: top;\n",
              "    }\n",
              "\n",
              "    .dataframe thead th {\n",
              "        text-align: right;\n",
              "    }\n",
              "</style>\n",
              "<table border=\"1\" class=\"dataframe\">\n",
              "  <thead>\n",
              "    <tr style=\"text-align: right;\">\n",
              "      <th></th>\n",
              "      <th>type</th>\n",
              "      <th>posts</th>\n",
              "      <th>typeNo</th>\n",
              "    </tr>\n",
              "  </thead>\n",
              "  <tbody>\n",
              "    <tr>\n",
              "      <th>5777</th>\n",
              "      <td>enfj</td>\n",
              "      <td>My friends say I flirt a lot. That I'm probabl...</td>\n",
              "      <td>0</td>\n",
              "    </tr>\n",
              "    <tr>\n",
              "      <th>7976</th>\n",
              "      <td>enfj</td>\n",
              "      <td>hmm... I think I should post my view of romanc...</td>\n",
              "      <td>0</td>\n",
              "    </tr>\n",
              "    <tr>\n",
              "      <th>2851</th>\n",
              "      <td>enfj</td>\n",
              "      <td>Not surprised since I get along with INTP guys...</td>\n",
              "      <td>0</td>\n",
              "    </tr>\n",
              "    <tr>\n",
              "      <th>342</th>\n",
              "      <td>enfj</td>\n",
              "      <td>hahahahahaha. i just love my ability to read p...</td>\n",
              "      <td>0</td>\n",
              "    </tr>\n",
              "    <tr>\n",
              "      <th>1441</th>\n",
              "      <td>enfj</td>\n",
              "      <td>You are such a good friend.  She is lucky to h...</td>\n",
              "      <td>0</td>\n",
              "    </tr>\n",
              "    <tr>\n",
              "      <th>...</th>\n",
              "      <td>...</td>\n",
              "      <td>...</td>\n",
              "      <td>...</td>\n",
              "    </tr>\n",
              "    <tr>\n",
              "      <th>3524</th>\n",
              "      <td>istp</td>\n",
              "      <td>You know your an ISTP female when you tell the...</td>\n",
              "      <td>15</td>\n",
              "    </tr>\n",
              "    <tr>\n",
              "      <th>123</th>\n",
              "      <td>istp</td>\n",
              "      <td>I don't offer advice unless it is asked for or...</td>\n",
              "      <td>15</td>\n",
              "    </tr>\n",
              "    <tr>\n",
              "      <th>3525</th>\n",
              "      <td>istp</td>\n",
              "      <td>.|||Thank you. It's the first time I've tried ...</td>\n",
              "      <td>15</td>\n",
              "    </tr>\n",
              "    <tr>\n",
              "      <th>8419</th>\n",
              "      <td>istp</td>\n",
              "      <td>I agree with Seralya, message him that, and th...</td>\n",
              "      <td>15</td>\n",
              "    </tr>\n",
              "    <tr>\n",
              "      <th>6627</th>\n",
              "      <td>istp</td>\n",
              "      <td>INFP 9w1|||I'm pretty sure he is.|||Si|||Te|||...</td>\n",
              "      <td>15</td>\n",
              "    </tr>\n",
              "  </tbody>\n",
              "</table>\n",
              "<p>8675 rows × 3 columns</p>\n",
              "</div>"
            ],
            "text/plain": [
              "      type                                              posts  typeNo\n",
              "5777  enfj  My friends say I flirt a lot. That I'm probabl...       0\n",
              "7976  enfj  hmm... I think I should post my view of romanc...       0\n",
              "2851  enfj  Not surprised since I get along with INTP guys...       0\n",
              "342   enfj  hahahahahaha. i just love my ability to read p...       0\n",
              "1441  enfj  You are such a good friend.  She is lucky to h...       0\n",
              "...    ...                                                ...     ...\n",
              "3524  istp  You know your an ISTP female when you tell the...      15\n",
              "123   istp  I don't offer advice unless it is asked for or...      15\n",
              "3525  istp  .|||Thank you. It's the first time I've tried ...      15\n",
              "8419  istp  I agree with Seralya, message him that, and th...      15\n",
              "6627  istp  INFP 9w1|||I'm pretty sure he is.|||Si|||Te|||...      15\n",
              "\n",
              "[8675 rows x 3 columns]"
            ]
          },
          "execution_count": 6,
          "metadata": {},
          "output_type": "execute_result"
        }
      ],
      "source": [
        "df['typeNo'] = df['type'].factorize()[0]\n",
        "df"
      ]
    },
    {
      "cell_type": "code",
      "execution_count": 7,
      "metadata": {
        "id": "xTmFe9STdCHG"
      },
      "outputs": [],
      "source": [
        "x = df['posts']\n",
        "y = df['type'].factorize()[0]"
      ]
    },
    {
      "cell_type": "code",
      "execution_count": 8,
      "metadata": {
        "colab": {
          "base_uri": "https://localhost:8080/"
        },
        "id": "kccPVAIfdMbu",
        "outputId": "68e1111b-a87f-40ea-eb81-c473e0b0d98d"
      },
      "outputs": [
        {
          "data": {
            "text/plain": [
              "5777    My friends say I flirt a lot. That I'm probabl...\n",
              "7976    hmm... I think I should post my view of romanc...\n",
              "2851    Not surprised since I get along with INTP guys...\n",
              "342     hahahahahaha. i just love my ability to read p...\n",
              "1441    You are such a good friend.  She is lucky to h...\n",
              "                              ...                        \n",
              "3524    You know your an ISTP female when you tell the...\n",
              "123     I don't offer advice unless it is asked for or...\n",
              "3525    .|||Thank you. It's the first time I've tried ...\n",
              "8419    I agree with Seralya, message him that, and th...\n",
              "6627    INFP 9w1|||I'm pretty sure he is.|||Si|||Te|||...\n",
              "Name: posts, Length: 8675, dtype: object"
            ]
          },
          "execution_count": 8,
          "metadata": {},
          "output_type": "execute_result"
        }
      ],
      "source": [
        "x"
      ]
    },
    {
      "cell_type": "code",
      "execution_count": 9,
      "metadata": {
        "colab": {
          "base_uri": "https://localhost:8080/"
        },
        "id": "tF1plWWBdUw3",
        "outputId": "b27f1bae-8fad-46ca-8123-748f43c57013"
      },
      "outputs": [
        {
          "data": {
            "text/plain": [
              "array([ 0,  0,  0, ..., 15, 15, 15])"
            ]
          },
          "execution_count": 9,
          "metadata": {},
          "output_type": "execute_result"
        }
      ],
      "source": [
        "y"
      ]
    },
    {
      "cell_type": "code",
      "execution_count": 10,
      "metadata": {
        "colab": {
          "base_uri": "https://localhost:8080/"
        },
        "id": "N2md7TCudXoK",
        "outputId": "72c0dafe-2208-4b4e-c542-27e30b71088b"
      },
      "outputs": [
        {
          "name": "stderr",
          "output_type": "stream",
          "text": [
            "[nltk_data] Downloading package wordnet to /home/dpaul/nltk_data...\n",
            "[nltk_data]   Package wordnet is already up-to-date!\n",
            "[nltk_data] Downloading package stopwords to /home/dpaul/nltk_data...\n",
            "[nltk_data]   Package stopwords is already up-to-date!\n",
            "[nltk_data] Downloading package punkt to /home/dpaul/nltk_data...\n",
            "[nltk_data]   Package punkt is already up-to-date!\n"
          ]
        },
        {
          "data": {
            "text/plain": [
              "True"
            ]
          },
          "execution_count": 10,
          "metadata": {},
          "output_type": "execute_result"
        }
      ],
      "source": [
        "from bs4 import BeautifulSoup\n",
        "import nltk\n",
        "from nltk.util import ngrams\n",
        "from nltk.stem import WordNetLemmatizer\n",
        "from nltk.corpus import stopwords, wordnet\n",
        "from nltk.stem import PorterStemmer\n",
        "from nltk import word_tokenize\n",
        "import re\n",
        "import pickle\n",
        "\n",
        "nltk.download('wordnet')\n",
        "nltk.download('stopwords')\n",
        "nltk.download('punkt')"
      ]
    },
    {
      "cell_type": "code",
      "execution_count": 11,
      "metadata": {
        "id": "5AWIIE_Ud1yB"
      },
      "outputs": [],
      "source": [
        "additional_stop_words =[]\n",
        "\n",
        "def text_cleanup(text):\n",
        "\n",
        "  text = str(text)\n",
        "  text_clean = BeautifulSoup(text, \"lxml\").text\n",
        "  text_clean = text_clean.lower()\n",
        "  text_clean = re.sub(r'[^a-zA-Z]|(\\w+:\\/\\/\\S+)',' ', text_clean)\n",
        "\n",
        "  text_clean = text_clean.split()\n",
        "  text_clean = [w for w in text_clean if len(w)>2]\n",
        "\n",
        "  lemmatizer = WordNetLemmatizer()\n",
        "  text_clean = [lemmatizer.lemmatize(w) for w in text_clean]\n",
        "\n",
        "  stops = set(stopwords. words('english')).union(additional_stop_words)\n",
        "  text_clean = [w for w in text_clean if w not in stops]\n",
        "\n",
        "  mySeparator = \" \"\n",
        "  text_clean = mySeparator.join(text_clean)\n",
        "\n",
        "  return text_clean"
      ]
    },
    {
      "cell_type": "code",
      "execution_count": 12,
      "metadata": {
        "colab": {
          "base_uri": "https://localhost:8080/"
        },
        "id": "hU74hVYmgfgY",
        "outputId": "ac93cca1-82ee-439d-d6ad-669838382d55"
      },
      "outputs": [
        {
          "name": "stdout",
          "output_type": "stream",
          "text": [
            "5777    My friends say I flirt a lot. That I'm probabl...\n",
            "7976    hmm... I think I should post my view of romanc...\n",
            "2851    Not surprised since I get along with INTP guys...\n",
            "342     hahahahahaha. i just love my ability to read p...\n",
            "1441    You are such a good friend.  She is lucky to h...\n",
            "                              ...                        \n",
            "3524    You know your an ISTP female when you tell the...\n",
            "123     I don't offer advice unless it is asked for or...\n",
            "3525    .|||Thank you. It's the first time I've tried ...\n",
            "8419    I agree with Seralya, message him that, and th...\n",
            "6627    INFP 9w1|||I'm pretty sure he is.|||Si|||Te|||...\n",
            "Name: posts, Length: 8675, dtype: object\n"
          ]
        }
      ],
      "source": [
        "print(x)"
      ]
    },
    {
      "cell_type": "code",
      "execution_count": 13,
      "metadata": {
        "id": "JqYcNWx8fKaC"
      },
      "outputs": [],
      "source": [
        "RANDOM_STATE = 42\n",
        "\n",
        "x_train, x_test, y_train, y_test = train_test_split(x, y, stratify=y, test_size=0.2, random_state = RANDOM_STATE)"
      ]
    },
    {
      "cell_type": "code",
      "execution_count": 14,
      "metadata": {
        "colab": {
          "base_uri": "https://localhost:8080/",
          "height": 137,
          "referenced_widgets": [
            "72f1a32d643e41459f22381e3b91c7f7",
            "de4265d546564135b44f696cd2c7a1b3",
            "13915755e8ae451d93f40678d41f5b17",
            "8ae2dd58dd8945b887e8089aa20feb93",
            "4d045ece3ee943b9b6929fece8db0c24",
            "c62786bfbef442be8b86d78aa60473bb",
            "3154cc666da1440b82e1b7050aeb8815",
            "3663802e6d48468ba89f23a509c2c8b1",
            "760a6d2ac7fd41fb8be7b56d661c4683",
            "b5d665ff70de480aa6bffe1c0066d2d4",
            "5f71a832a25543ab87fba31fae2bc8b3",
            "3a70e9afc5d145c794b21d324195e5cc",
            "46481565e5c74d71a1cc9f9f1965df77",
            "a4c1d0f563a14d9b9202d0ab5aafb83f",
            "39d8718ab9004e5394a296b95977c3c4",
            "8facb52ee69f46378836793ac0c43cf8",
            "913eb6a1b11d43108cfc94414e99ead1",
            "262d0283e0664c6ca90d620d9e46fab2",
            "659cf27d0bbe4194a7b92063ad64b227",
            "05012a3953bb466b949bce33d39becb6",
            "cd2db03a0133431d813ecce3dc1b32e9",
            "d33a694591404441958b0f8fcd2941be"
          ]
        },
        "id": "FhlQRaGzgqps",
        "outputId": "009ce841-26c0-476e-83e1-3159d49872bf"
      },
      "outputs": [
        {
          "data": {
            "application/vnd.jupyter.widget-view+json": {
              "model_id": "c044d813f2054bad97a1aaf259d995db",
              "version_major": 2,
              "version_minor": 0
            },
            "text/plain": [
              "  0%|          | 0/6940 [00:00<?, ?it/s]"
            ]
          },
          "metadata": {},
          "output_type": "display_data"
        },
        {
          "name": "stderr",
          "output_type": "stream",
          "text": [
            "/tmp/ipykernel_6913/168849312.py:6: MarkupResemblesLocatorWarning: The input looks more like a filename than markup. You may want to open this file and pass the filehandle into Beautiful Soup.\n",
            "  text_clean = BeautifulSoup(text, \"lxml\").text\n"
          ]
        },
        {
          "data": {
            "application/vnd.jupyter.widget-view+json": {
              "model_id": "ba75c9725a4f424da1a0c2dd20184615",
              "version_major": 2,
              "version_minor": 0
            },
            "text/plain": [
              "  0%|          | 0/1735 [00:00<?, ?it/s]"
            ]
          },
          "metadata": {},
          "output_type": "display_data"
        }
      ],
      "source": [
        "x_test_raw = x_test\n",
        "\n",
        "x_train = [text_cleanup(txt) for txt in tqdm(x_train)]\n",
        "x_test = [text_cleanup(txt) for txt in tqdm(x_test)]"
      ]
    },
    {
      "cell_type": "code",
      "execution_count": 15,
      "metadata": {
        "colab": {
          "base_uri": "https://localhost:8080/"
        },
        "id": "Tt1sZugkhDii",
        "outputId": "08ee60ca-4c98-4d06-9840-73565db95e65"
      },
      "outputs": [
        {
          "data": {
            "text/plain": [
              "<6940x78683 sparse matrix of type '<class 'numpy.int64'>'\n",
              "\twith 2735550 stored elements in Compressed Sparse Row format>"
            ]
          },
          "execution_count": 15,
          "metadata": {},
          "output_type": "execute_result"
        }
      ],
      "source": [
        "from sklearn.feature_extraction.text import CountVectorizer\n",
        "count_vect = CountVectorizer()\n",
        "x_train = count_vect.fit_transform(x_train)\n",
        "x_test = count_vect.transform(x_test)\n",
        "\n",
        "x_train"
      ]
    },
    {
      "cell_type": "code",
      "execution_count": 16,
      "metadata": {
        "id": "Bv4kCQEThj9P"
      },
      "outputs": [],
      "source": [
        "import seaborn as sns\n",
        "import matplotlib.pyplot as plt\n",
        "from matplotlib import rc\n",
        "\n",
        "def show_confusion_matrix(confusion_matrix):\n",
        "  hmap = sns.heatmap(confusion_matrix, annot=True, fmt = \"d\", cmap=\"Blues\")\n",
        "  hmap.yaxis.set_ticklabels(hmap.yaxis.get_ticklabels(), rotation = 0, ha = 'right')\n",
        "  hmap.xaxis.set_ticklabels(hmap.xaxis.get_ticklabels(), rotation = 30, ha = 'right')\n",
        "  plt.ylabel('Truth')\n",
        "  plt.xlabel('Predicted')\n"
      ]
    },
    {
      "cell_type": "markdown",
      "metadata": {
        "id": "c4jnmd7d214n"
      },
      "source": [
        "Testing"
      ]
    },
    {
      "cell_type": "code",
      "execution_count": 17,
      "metadata": {
        "colab": {
          "base_uri": "https://localhost:8080/"
        },
        "id": "JhpNk2WpiUA1",
        "outputId": "a86f51ac-49ce-4fdb-fd6e-a2134a03e494"
      },
      "outputs": [
        {
          "data": {
            "text/plain": [
              "['enfj',\n",
              " 'enfp',\n",
              " 'entj',\n",
              " 'entp',\n",
              " 'esfj',\n",
              " 'esfp',\n",
              " 'estj',\n",
              " 'estp',\n",
              " 'infj',\n",
              " 'infp',\n",
              " 'intj',\n",
              " 'intp',\n",
              " 'isfj',\n",
              " 'isfp',\n",
              " 'istj',\n",
              " 'istp']"
            ]
          },
          "execution_count": 17,
          "metadata": {},
          "output_type": "execute_result"
        }
      ],
      "source": [
        "types = [type_ for type_ in df['type'].factorize()[1]]\n",
        "types"
      ]
    },
    {
      "cell_type": "code",
      "execution_count": 18,
      "metadata": {
        "colab": {
          "base_uri": "https://localhost:8080/"
        },
        "id": "YKNB85oU25w7",
        "outputId": "044c1214-9684-424d-88be-5cbe7d5e2384"
      },
      "outputs": [
        {
          "data": {
            "text/plain": [
              "{0: 'enfj',\n",
              " 1: 'enfp',\n",
              " 2: 'entj',\n",
              " 3: 'entp',\n",
              " 4: 'esfj',\n",
              " 5: 'esfp',\n",
              " 6: 'estj',\n",
              " 7: 'estp',\n",
              " 8: 'infj',\n",
              " 9: 'infp',\n",
              " 10: 'intj',\n",
              " 11: 'intp',\n",
              " 12: 'isfj',\n",
              " 13: 'isfp',\n",
              " 14: 'istj',\n",
              " 15: 'istp'}"
            ]
          },
          "execution_count": 18,
          "metadata": {},
          "output_type": "execute_result"
        }
      ],
      "source": [
        "d = {k: v for k, v in enumerate(types)}\n",
        "d"
      ]
    },
    {
      "cell_type": "code",
      "execution_count": 19,
      "metadata": {
        "id": "VCjy3sdRibAW"
      },
      "outputs": [
        {
          "name": "stdout",
          "output_type": "stream",
          "text": [
            "              precision    recall  f1-score   support\n",
            "\n",
            "        enfj       0.43      0.26      0.33        38\n",
            "        enfp       0.56      0.47      0.51       135\n",
            "        entj       0.47      0.39      0.43        46\n",
            "        entp       0.53      0.55      0.54       137\n",
            "        esfj       0.38      0.33      0.35         9\n",
            "        esfp       1.00      0.10      0.18        10\n",
            "        estj       0.00      0.00      0.00         8\n",
            "        estp       0.33      0.11      0.17        18\n",
            "        infj       0.61      0.65      0.63       294\n",
            "        infp       0.62      0.72      0.67       366\n",
            "        intj       0.59      0.63      0.61       218\n",
            "        intp       0.64      0.69      0.66       261\n",
            "        isfj       0.70      0.42      0.53        33\n",
            "        isfp       0.46      0.39      0.42        54\n",
            "        istj       0.57      0.39      0.46        41\n",
            "        istp       0.66      0.52      0.58        67\n",
            "\n",
            "    accuracy                           0.59      1735\n",
            "   macro avg       0.53      0.41      0.44      1735\n",
            "weighted avg       0.59      0.59      0.59      1735\n",
            "\n"
          ]
        },
        {
          "name": "stderr",
          "output_type": "stream",
          "text": [
            "/home/dpaul/.local/lib/python3.10/site-packages/sklearn/linear_model/_logistic.py:460: ConvergenceWarning: lbfgs failed to converge (status=1):\n",
            "STOP: TOTAL NO. of ITERATIONS REACHED LIMIT.\n",
            "\n",
            "Increase the number of iterations (max_iter) or scale the data as shown in:\n",
            "    https://scikit-learn.org/stable/modules/preprocessing.html\n",
            "Please also refer to the documentation for alternative solver options:\n",
            "    https://scikit-learn.org/stable/modules/linear_model.html#logistic-regression\n",
            "  n_iter_i = _check_optimize_result(\n",
            "/home/dpaul/.local/lib/python3.10/site-packages/sklearn/metrics/_classification.py:1471: UndefinedMetricWarning: Precision and F-score are ill-defined and being set to 0.0 in labels with no predicted samples. Use `zero_division` parameter to control this behavior.\n",
            "  _warn_prf(average, modifier, msg_start, len(result))\n",
            "/home/dpaul/.local/lib/python3.10/site-packages/sklearn/metrics/_classification.py:1471: UndefinedMetricWarning: Precision and F-score are ill-defined and being set to 0.0 in labels with no predicted samples. Use `zero_division` parameter to control this behavior.\n",
            "  _warn_prf(average, modifier, msg_start, len(result))\n",
            "/home/dpaul/.local/lib/python3.10/site-packages/sklearn/metrics/_classification.py:1471: UndefinedMetricWarning: Precision and F-score are ill-defined and being set to 0.0 in labels with no predicted samples. Use `zero_division` parameter to control this behavior.\n",
            "  _warn_prf(average, modifier, msg_start, len(result))\n"
          ]
        }
      ],
      "source": [
        "from sklearn.metrics import confusion_matrix, classification_report\n",
        "\n",
        "from sklearn.linear_model import LogisticRegression\n",
        "model = LogisticRegression(solver= 'lbfgs', max_iter=400, random_state=42)\n",
        "model.fit(x_train, y_train)\n",
        "\n",
        "y_pred = model.predict(x_test)\n",
        "\n",
        "print(classification_report(y_test, y_pred, target_names = types))"
      ]
    },
    {
      "cell_type": "code",
      "execution_count": 20,
      "metadata": {
        "id": "Y_XvRITv4CFn"
      },
      "outputs": [
        {
          "data": {
            "image/png": "[encoded data removed]",
            "text/plain": [
              "<Figure size 640x480 with 2 Axes>"
            ]
          },
          "metadata": {},
          "output_type": "display_data"
        }
      ],
      "source": [
        "cm = confusion_matrix(y_test, y_pred)\n",
        "df_cm = pd.DataFrame(cm)\n",
        "show_confusion_matrix(df_cm)"
      ]
    },
    {
      "cell_type": "code",
      "execution_count": 21,
      "metadata": {
        "id": "TPPWKPA84FcL"
      },
      "outputs": [],
      "source": [
        "LR_model = model"
      ]
    },
    {
      "cell_type": "code",
      "execution_count": 22,
      "metadata": {
        "id": "3iq218S04Hzf"
      },
      "outputs": [],
      "source": [
        "def type_text(text,model,vect):\n",
        "  text = vect.transform([text])\n",
        "  return model.predict(text).flatten()[0]\n",
        "\n",
        "def type_prob(text,model,vect):\n",
        "  text = vect.transform([text])\n",
        "  return model.predict_proba(text).flatten()"
      ]
    },
    {
      "cell_type": "code",
      "execution_count": 28,
      "metadata": {
        "id": "6SUAFAA04JOL"
      },
      "outputs": [
        {
          "data": {
            "text/plain": [
              "('infp', 0.3199168370947723)"
            ]
          },
          "execution_count": 28,
          "metadata": {},
          "output_type": "execute_result"
        }
      ],
      "source": [
        "text = 'The weather is unpredictable this time of year'\n",
        "category_int = type_text(text,LR_model, count_vect)\n",
        "category = d[category_int]\n",
        "confidence = type_prob(text, LR_model, count_vect)[category_int]\n",
        "\n",
        "category, confidence"
      ]
    },
    {
      "cell_type": "code",
      "execution_count": 34,
      "metadata": {},
      "outputs": [],
      "source": [
        "from joblib import dump\n",
        "from joblib import load\n",
        "\n",
        "dump(model, 'models/log_model.joblib')\n",
        "dump(count_vect, 'models/count_vec.joblib')\n",
        "\n",
        "\n",
        "# Load the model from the file\n",
        "model = load('models/log_model.joblib')\n",
        "count_vect = load('models/count_vec.joblib')\n"
      ]
    },
    {
      "cell_type": "code",
      "execution_count": null,
      "metadata": {},
      "outputs": [],
      "source": []
    }
  ],
  "metadata": {
    "colab": {
      "provenance": []
    },
    "kernelspec": {
      "display_name": "Python 3",
      "name": "python3"
    },
    "language_info": {
      "codemirror_mode": {
        "name": "ipython",
        "version": 3
      },
      "file_extension": ".py",
      "mimetype": "text/x-python",
      "name": "python",
      "nbconvert_exporter": "python",
      "pygments_lexer": "ipython3",
      "version": "3.10.12"
    },
    "widgets": {
      "application/vnd.jupyter.widget-state+json": {
        "05012a3953bb466b949bce33d39becb6": {
          "model_module": "@jupyter-widgets/controls",
          "model_module_version": "1.5.0",
          "model_name": "ProgressStyleModel",
          "state": {
            "_model_module": "@jupyter-widgets/controls",
            "_model_module_version": "1.5.0",
            "_model_name": "ProgressStyleModel",
            "_view_count": null,
            "_view_module": "@jupyter-widgets/base",
            "_view_module_version": "1.2.0",
            "_view_name": "StyleView",
            "bar_color": null,
            "description_width": ""
          }
        },
        "13915755e8ae451d93f40678d41f5b17": {
          "model_module": "@jupyter-widgets/controls",
          "model_module_version": "1.5.0",
          "model_name": "FloatProgressModel",
          "state": {
            "_dom_classes": [],
            "_model_module": "@jupyter-widgets/controls",
            "_model_module_version": "1.5.0",
            "_model_name": "FloatProgressModel",
            "_view_count": null,
            "_view_module": "@jupyter-widgets/controls",
            "_view_module_version": "1.5.0",
            "_view_name": "ProgressView",
            "bar_style": "success",
            "description": "",
            "description_tooltip": null,
            "layout": "IPY_MODEL_3663802e6d48468ba89f23a509c2c8b1",
            "max": 6940,
            "min": 0,
            "orientation": "horizontal",
            "style": "IPY_MODEL_760a6d2ac7fd41fb8be7b56d661c4683",
            "value": 6940
          }
        },
        "262d0283e0664c6ca90d620d9e46fab2": {
          "model_module": "@jupyter-widgets/controls",
          "model_module_version": "1.5.0",
          "model_name": "DescriptionStyleModel",
          "state": {
            "_model_module": "@jupyter-widgets/controls",
            "_model_module_version": "1.5.0",
            "_model_name": "DescriptionStyleModel",
            "_view_count": null,
            "_view_module": "@jupyter-widgets/base",
            "_view_module_version": "1.2.0",
            "_view_name": "StyleView",
            "description_width": ""
          }
        },
        "3154cc666da1440b82e1b7050aeb8815": {
          "model_module": "@jupyter-widgets/controls",
          "model_module_version": "1.5.0",
          "model_name": "DescriptionStyleModel",
          "state": {
            "_model_module": "@jupyter-widgets/controls",
            "_model_module_version": "1.5.0",
            "_model_name": "DescriptionStyleModel",
            "_view_count": null,
            "_view_module": "@jupyter-widgets/base",
            "_view_module_version": "1.2.0",
            "_view_name": "StyleView",
            "description_width": ""
          }
        },
        "3663802e6d48468ba89f23a509c2c8b1": {
          "model_module": "@jupyter-widgets/base",
          "model_module_version": "1.2.0",
          "model_name": "LayoutModel",
          "state": {
            "_model_module": "@jupyter-widgets/base",
            "_model_module_version": "1.2.0",
            "_model_name": "LayoutModel",
            "_view_count": null,
            "_view_module": "@jupyter-widgets/base",
            "_view_module_version": "1.2.0",
            "_view_name": "LayoutView",
            "align_content": null,
            "align_items": null,
            "align_self": null,
            "border": null,
            "bottom": null,
            "display": null,
            "flex": null,
            "flex_flow": null,
            "grid_area": null,
            "grid_auto_columns": null,
            "grid_auto_flow": null,
            "grid_auto_rows": null,
            "grid_column": null,
            "grid_gap": null,
            "grid_row": null,
            "grid_template_areas": null,
            "grid_template_columns": null,
            "grid_template_rows": null,
            "height": null,
            "justify_content": null,
            "justify_items": null,
            "left": null,
            "margin": null,
            "max_height": null,
            "max_width": null,
            "min_height": null,
            "min_width": null,
            "object_fit": null,
            "object_position": null,
            "order": null,
            "overflow": null,
            "overflow_x": null,
            "overflow_y": null,
            "padding": null,
            "right": null,
            "top": null,
            "visibility": null,
            "width": null
          }
        },
        "39d8718ab9004e5394a296b95977c3c4": {
          "model_module": "@jupyter-widgets/controls",
          "model_module_version": "1.5.0",
          "model_name": "HTMLModel",
          "state": {
            "_dom_classes": [],
            "_model_module": "@jupyter-widgets/controls",
            "_model_module_version": "1.5.0",
            "_model_name": "HTMLModel",
            "_view_count": null,
            "_view_module": "@jupyter-widgets/controls",
            "_view_module_version": "1.5.0",
            "_view_name": "HTMLView",
            "description": "",
            "description_tooltip": null,
            "layout": "IPY_MODEL_cd2db03a0133431d813ecce3dc1b32e9",
            "placeholder": "​",
            "style": "IPY_MODEL_d33a694591404441958b0f8fcd2941be",
            "value": " 1735/1735 [00:12&lt;00:00, 167.26it/s]"
          }
        },
        "3a70e9afc5d145c794b21d324195e5cc": {
          "model_module": "@jupyter-widgets/controls",
          "model_module_version": "1.5.0",
          "model_name": "HBoxModel",
          "state": {
            "_dom_classes": [],
            "_model_module": "@jupyter-widgets/controls",
            "_model_module_version": "1.5.0",
            "_model_name": "HBoxModel",
            "_view_count": null,
            "_view_module": "@jupyter-widgets/controls",
            "_view_module_version": "1.5.0",
            "_view_name": "HBoxView",
            "box_style": "",
            "children": [
              "IPY_MODEL_46481565e5c74d71a1cc9f9f1965df77",
              "IPY_MODEL_a4c1d0f563a14d9b9202d0ab5aafb83f",
              "IPY_MODEL_39d8718ab9004e5394a296b95977c3c4"
            ],
            "layout": "IPY_MODEL_8facb52ee69f46378836793ac0c43cf8"
          }
        },
        "46481565e5c74d71a1cc9f9f1965df77": {
          "model_module": "@jupyter-widgets/controls",
          "model_module_version": "1.5.0",
          "model_name": "HTMLModel",
          "state": {
            "_dom_classes": [],
            "_model_module": "@jupyter-widgets/controls",
            "_model_module_version": "1.5.0",
            "_model_name": "HTMLModel",
            "_view_count": null,
            "_view_module": "@jupyter-widgets/controls",
            "_view_module_version": "1.5.0",
            "_view_name": "HTMLView",
            "description": "",
            "description_tooltip": null,
            "layout": "IPY_MODEL_913eb6a1b11d43108cfc94414e99ead1",
            "placeholder": "​",
            "style": "IPY_MODEL_262d0283e0664c6ca90d620d9e46fab2",
            "value": "100%"
          }
        },
        "4d045ece3ee943b9b6929fece8db0c24": {
          "model_module": "@jupyter-widgets/base",
          "model_module_version": "1.2.0",
          "model_name": "LayoutModel",
          "state": {
            "_model_module": "@jupyter-widgets/base",
            "_model_module_version": "1.2.0",
            "_model_name": "LayoutModel",
            "_view_count": null,
            "_view_module": "@jupyter-widgets/base",
            "_view_module_version": "1.2.0",
            "_view_name": "LayoutView",
            "align_content": null,
            "align_items": null,
            "align_self": null,
            "border": null,
            "bottom": null,
            "display": null,
            "flex": null,
            "flex_flow": null,
            "grid_area": null,
            "grid_auto_columns": null,
            "grid_auto_flow": null,
            "grid_auto_rows": null,
            "grid_column": null,
            "grid_gap": null,
            "grid_row": null,
            "grid_template_areas": null,
            "grid_template_columns": null,
            "grid_template_rows": null,
            "height": null,
            "justify_content": null,
            "justify_items": null,
            "left": null,
            "margin": null,
            "max_height": null,
            "max_width": null,
            "min_height": null,
            "min_width": null,
            "object_fit": null,
            "object_position": null,
            "order": null,
            "overflow": null,
            "overflow_x": null,
            "overflow_y": null,
            "padding": null,
            "right": null,
            "top": null,
            "visibility": null,
            "width": null
          }
        },
        "5f71a832a25543ab87fba31fae2bc8b3": {
          "model_module": "@jupyter-widgets/controls",
          "model_module_version": "1.5.0",
          "model_name": "DescriptionStyleModel",
          "state": {
            "_model_module": "@jupyter-widgets/controls",
            "_model_module_version": "1.5.0",
            "_model_name": "DescriptionStyleModel",
            "_view_count": null,
            "_view_module": "@jupyter-widgets/base",
            "_view_module_version": "1.2.0",
            "_view_name": "StyleView",
            "description_width": ""
          }
        },
        "659cf27d0bbe4194a7b92063ad64b227": {
          "model_module": "@jupyter-widgets/base",
          "model_module_version": "1.2.0",
          "model_name": "LayoutModel",
          "state": {
            "_model_module": "@jupyter-widgets/base",
            "_model_module_version": "1.2.0",
            "_model_name": "LayoutModel",
            "_view_count": null,
            "_view_module": "@jupyter-widgets/base",
            "_view_module_version": "1.2.0",
            "_view_name": "LayoutView",
            "align_content": null,
            "align_items": null,
            "align_self": null,
            "border": null,
            "bottom": null,
            "display": null,
            "flex": null,
            "flex_flow": null,
            "grid_area": null,
            "grid_auto_columns": null,
            "grid_auto_flow": null,
            "grid_auto_rows": null,
            "grid_column": null,
            "grid_gap": null,
            "grid_row": null,
            "grid_template_areas": null,
            "grid_template_columns": null,
            "grid_template_rows": null,
            "height": null,
            "justify_content": null,
            "justify_items": null,
            "left": null,
            "margin": null,
            "max_height": null,
            "max_width": null,
            "min_height": null,
            "min_width": null,
            "object_fit": null,
            "object_position": null,
            "order": null,
            "overflow": null,
            "overflow_x": null,
            "overflow_y": null,
            "padding": null,
            "right": null,
            "top": null,
            "visibility": null,
            "width": null
          }
        },
        "72f1a32d643e41459f22381e3b91c7f7": {
          "model_module": "@jupyter-widgets/controls",
          "model_module_version": "1.5.0",
          "model_name": "HBoxModel",
          "state": {
            "_dom_classes": [],
            "_model_module": "@jupyter-widgets/controls",
            "_model_module_version": "1.5.0",
            "_model_name": "HBoxModel",
            "_view_count": null,
            "_view_module": "@jupyter-widgets/controls",
            "_view_module_version": "1.5.0",
            "_view_name": "HBoxView",
            "box_style": "",
            "children": [
              "IPY_MODEL_de4265d546564135b44f696cd2c7a1b3",
              "IPY_MODEL_13915755e8ae451d93f40678d41f5b17",
              "IPY_MODEL_8ae2dd58dd8945b887e8089aa20feb93"
            ],
            "layout": "IPY_MODEL_4d045ece3ee943b9b6929fece8db0c24"
          }
        },
        "760a6d2ac7fd41fb8be7b56d661c4683": {
          "model_module": "@jupyter-widgets/controls",
          "model_module_version": "1.5.0",
          "model_name": "ProgressStyleModel",
          "state": {
            "_model_module": "@jupyter-widgets/controls",
            "_model_module_version": "1.5.0",
            "_model_name": "ProgressStyleModel",
            "_view_count": null,
            "_view_module": "@jupyter-widgets/base",
            "_view_module_version": "1.2.0",
            "_view_name": "StyleView",
            "bar_color": null,
            "description_width": ""
          }
        },
        "8ae2dd58dd8945b887e8089aa20feb93": {
          "model_module": "@jupyter-widgets/controls",
          "model_module_version": "1.5.0",
          "model_name": "HTMLModel",
          "state": {
            "_dom_classes": [],
            "_model_module": "@jupyter-widgets/controls",
            "_model_module_version": "1.5.0",
            "_model_name": "HTMLModel",
            "_view_count": null,
            "_view_module": "@jupyter-widgets/controls",
            "_view_module_version": "1.5.0",
            "_view_name": "HTMLView",
            "description": "",
            "description_tooltip": null,
            "layout": "IPY_MODEL_b5d665ff70de480aa6bffe1c0066d2d4",
            "placeholder": "​",
            "style": "IPY_MODEL_5f71a832a25543ab87fba31fae2bc8b3",
            "value": " 6940/6940 [00:55&lt;00:00, 165.65it/s]"
          }
        },
        "8facb52ee69f46378836793ac0c43cf8": {
          "model_module": "@jupyter-widgets/base",
          "model_module_version": "1.2.0",
          "model_name": "LayoutModel",
          "state": {
            "_model_module": "@jupyter-widgets/base",
            "_model_module_version": "1.2.0",
            "_model_name": "LayoutModel",
            "_view_count": null,
            "_view_module": "@jupyter-widgets/base",
            "_view_module_version": "1.2.0",
            "_view_name": "LayoutView",
            "align_content": null,
            "align_items": null,
            "align_self": null,
            "border": null,
            "bottom": null,
            "display": null,
            "flex": null,
            "flex_flow": null,
            "grid_area": null,
            "grid_auto_columns": null,
            "grid_auto_flow": null,
            "grid_auto_rows": null,
            "grid_column": null,
            "grid_gap": null,
            "grid_row": null,
            "grid_template_areas": null,
            "grid_template_columns": null,
            "grid_template_rows": null,
            "height": null,
            "justify_content": null,
            "justify_items": null,
            "left": null,
            "margin": null,
            "max_height": null,
            "max_width": null,
            "min_height": null,
            "min_width": null,
            "object_fit": null,
            "object_position": null,
            "order": null,
            "overflow": null,
            "overflow_x": null,
            "overflow_y": null,
            "padding": null,
            "right": null,
            "top": null,
            "visibility": null,
            "width": null
          }
        },
        "913eb6a1b11d43108cfc94414e99ead1": {
          "model_module": "@jupyter-widgets/base",
          "model_module_version": "1.2.0",
          "model_name": "LayoutModel",
          "state": {
            "_model_module": "@jupyter-widgets/base",
            "_model_module_version": "1.2.0",
            "_model_name": "LayoutModel",
            "_view_count": null,
            "_view_module": "@jupyter-widgets/base",
            "_view_module_version": "1.2.0",
            "_view_name": "LayoutView",
            "align_content": null,
            "align_items": null,
            "align_self": null,
            "border": null,
            "bottom": null,
            "display": null,
            "flex": null,
            "flex_flow": null,
            "grid_area": null,
            "grid_auto_columns": null,
            "grid_auto_flow": null,
            "grid_auto_rows": null,
            "grid_column": null,
            "grid_gap": null,
            "grid_row": null,
            "grid_template_areas": null,
            "grid_template_columns": null,
            "grid_template_rows": null,
            "height": null,
            "justify_content": null,
            "justify_items": null,
            "left": null,
            "margin": null,
            "max_height": null,
            "max_width": null,
            "min_height": null,
            "min_width": null,
            "object_fit": null,
            "object_position": null,
            "order": null,
            "overflow": null,
            "overflow_x": null,
            "overflow_y": null,
            "padding": null,
            "right": null,
            "top": null,
            "visibility": null,
            "width": null
          }
        },
        "a4c1d0f563a14d9b9202d0ab5aafb83f": {
          "model_module": "@jupyter-widgets/controls",
          "model_module_version": "1.5.0",
          "model_name": "FloatProgressModel",
          "state": {
            "_dom_classes": [],
            "_model_module": "@jupyter-widgets/controls",
            "_model_module_version": "1.5.0",
            "_model_name": "FloatProgressModel",
            "_view_count": null,
            "_view_module": "@jupyter-widgets/controls",
            "_view_module_version": "1.5.0",
            "_view_name": "ProgressView",
            "bar_style": "success",
            "description": "",
            "description_tooltip": null,
            "layout": "IPY_MODEL_659cf27d0bbe4194a7b92063ad64b227",
            "max": 1735,
            "min": 0,
            "orientation": "horizontal",
            "style": "IPY_MODEL_05012a3953bb466b949bce33d39becb6",
            "value": 1735
          }
        },
        "b5d665ff70de480aa6bffe1c0066d2d4": {
          "model_module": "@jupyter-widgets/base",
          "model_module_version": "1.2.0",
          "model_name": "LayoutModel",
          "state": {
            "_model_module": "@jupyter-widgets/base",
            "_model_module_version": "1.2.0",
            "_model_name": "LayoutModel",
            "_view_count": null,
            "_view_module": "@jupyter-widgets/base",
            "_view_module_version": "1.2.0",
            "_view_name": "LayoutView",
            "align_content": null,
            "align_items": null,
            "align_self": null,
            "border": null,
            "bottom": null,
            "display": null,
            "flex": null,
            "flex_flow": null,
            "grid_area": null,
            "grid_auto_columns": null,
            "grid_auto_flow": null,
            "grid_auto_rows": null,
            "grid_column": null,
            "grid_gap": null,
            "grid_row": null,
            "grid_template_areas": null,
            "grid_template_columns": null,
            "grid_template_rows": null,
            "height": null,
            "justify_content": null,
            "justify_items": null,
            "left": null,
            "margin": null,
            "max_height": null,
            "max_width": null,
            "min_height": null,
            "min_width": null,
            "object_fit": null,
            "object_position": null,
            "order": null,
            "overflow": null,
            "overflow_x": null,
            "overflow_y": null,
            "padding": null,
            "right": null,
            "top": null,
            "visibility": null,
            "width": null
          }
        },
        "c62786bfbef442be8b86d78aa60473bb": {
          "model_module": "@jupyter-widgets/base",
          "model_module_version": "1.2.0",
          "model_name": "LayoutModel",
          "state": {
            "_model_module": "@jupyter-widgets/base",
            "_model_module_version": "1.2.0",
            "_model_name": "LayoutModel",
            "_view_count": null,
            "_view_module": "@jupyter-widgets/base",
            "_view_module_version": "1.2.0",
            "_view_name": "LayoutView",
            "align_content": null,
            "align_items": null,
            "align_self": null,
            "border": null,
            "bottom": null,
            "display": null,
            "flex": null,
            "flex_flow": null,
            "grid_area": null,
            "grid_auto_columns": null,
            "grid_auto_flow": null,
            "grid_auto_rows": null,
            "grid_column": null,
            "grid_gap": null,
            "grid_row": null,
            "grid_template_areas": null,
            "grid_template_columns": null,
            "grid_template_rows": null,
            "height": null,
            "justify_content": null,
            "justify_items": null,
            "left": null,
            "margin": null,
            "max_height": null,
            "max_width": null,
            "min_height": null,
            "min_width": null,
            "object_fit": null,
            "object_position": null,
            "order": null,
            "overflow": null,
            "overflow_x": null,
            "overflow_y": null,
            "padding": null,
            "right": null,
            "top": null,
            "visibility": null,
            "width": null
          }
        },
        "cd2db03a0133431d813ecce3dc1b32e9": {
          "model_module": "@jupyter-widgets/base",
          "model_module_version": "1.2.0",
          "model_name": "LayoutModel",
          "state": {
            "_model_module": "@jupyter-widgets/base",
            "_model_module_version": "1.2.0",
            "_model_name": "LayoutModel",
            "_view_count": null,
            "_view_module": "@jupyter-widgets/base",
            "_view_module_version": "1.2.0",
            "_view_name": "LayoutView",
            "align_content": null,
            "align_items": null,
            "align_self": null,
            "border": null,
            "bottom": null,
            "display": null,
            "flex": null,
            "flex_flow": null,
            "grid_area": null,
            "grid_auto_columns": null,
            "grid_auto_flow": null,
            "grid_auto_rows": null,
            "grid_column": null,
            "grid_gap": null,
            "grid_row": null,
            "grid_template_areas": null,
            "grid_template_columns": null,
            "grid_template_rows": null,
            "height": null,
            "justify_content": null,
            "justify_items": null,
            "left": null,
            "margin": null,
            "max_height": null,
            "max_width": null,
            "min_height": null,
            "min_width": null,
            "object_fit": null,
            "object_position": null,
            "order": null,
            "overflow": null,
            "overflow_x": null,
            "overflow_y": null,
            "padding": null,
            "right": null,
            "top": null,
            "visibility": null,
            "width": null
          }
        },
        "d33a694591404441958b0f8fcd2941be": {
          "model_module": "@jupyter-widgets/controls",
          "model_module_version": "1.5.0",
          "model_name": "DescriptionStyleModel",
          "state": {
            "_model_module": "@jupyter-widgets/controls",
            "_model_module_version": "1.5.0",
            "_model_name": "DescriptionStyleModel",
            "_view_count": null,
            "_view_module": "@jupyter-widgets/base",
            "_view_module_version": "1.2.0",
            "_view_name": "StyleView",
            "description_width": ""
          }
        },
        "de4265d546564135b44f696cd2c7a1b3": {
          "model_module": "@jupyter-widgets/controls",
          "model_module_version": "1.5.0",
          "model_name": "HTMLModel",
          "state": {
            "_dom_classes": [],
            "_model_module": "@jupyter-widgets/controls",
            "_model_module_version": "1.5.0",
            "_model_name": "HTMLModel",
            "_view_count": null,
            "_view_module": "@jupyter-widgets/controls",
            "_view_module_version": "1.5.0",
            "_view_name": "HTMLView",
            "description": "",
            "description_tooltip": null,
            "layout": "IPY_MODEL_c62786bfbef442be8b86d78aa60473bb",
            "placeholder": "​",
            "style": "IPY_MODEL_3154cc666da1440b82e1b7050aeb8815",
            "value": "100%"
          }
        }
      }
    }
  },
  "nbformat": 4,
  "nbformat_minor": 0
}
